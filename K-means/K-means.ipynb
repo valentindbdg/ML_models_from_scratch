{
 "cells": [
  {
   "cell_type": "markdown",
   "id": "b06dc4ae-b0f5-40a3-86fa-d58a07816373",
   "metadata": {},
   "source": [
    "K-means is:\n",
    "- Find K clusters from unlabeled data\n",
    "- The algorithm learns from data => unsupervised learning algorithm"
   ]
  },
  {
   "attachments": {
    "193c12d2-3327-4814-88a8-1cec81b678a6.png": {
     "image/png": "[encoded data removed]"
    }
   },
   "cell_type": "markdown",
   "id": "8b5ab740-56fd-495c-95dd-dc79ef7139c1",
   "metadata": {
    "tags": []
   },
   "source": [
    "# Method:\n",
    "\n",
    "1. Initialize the cluster centroids !\n",
    "\n",
    "[image.png](attachment:193c12d2-3327-4814-88a8-1cec81b678a6.png) randomly:\n",
    "\n",
    "2. Repeat until convergence (define a criteria):\n",
    "    \n",
    "    2.2. for each point x(i), we find its closest centroid mu\n",
    "    \n",
    "    ![title](img1.png)\n",
    "    \n",
    "    2.3. assign mu's label \"cluster c\" to that point:\n",
    "\n",
    "    \n",
    "    2.4. for each cluster, we calculate the mean of all points that belong to that cluster (numerator), then we update it's centroid with the mean of all points:\n",
    "    \n",
    "    ![title](img2.png)\n",
    "    \n",
    "Criteria of convergence: Measure total movements of all the centroids, and define a threshold."
   ]
  },
  {
   "cell_type": "markdown",
   "id": "683ed592-a2ca-49ee-b69a-5b376aad222e",
   "metadata": {},
   "source": [
    "# Implementation\n",
    "For clarity, better maintenance and optimization, the implementation is performed using a main function and helper functions."
   ]
  },
  {
   "cell_type": "markdown",
   "id": "94857257-0dca-4386-bb1e-1b36ed82f0ed",
   "metadata": {},
   "source": [
    "## Helper functions"
   ]
  },
  {
   "cell_type": "code",
   "execution_count": 1,
   "id": "b1dd801a-97ff-4a47-8a33-62ee39caa9ab",
   "metadata": {},
   "outputs": [],
   "source": [
    "def random_sample(low, high):\n",
    "    return low + (high - low) * random.random() #random.random() sample a number uniformely distributed between 0 and 1 which is then scale between low and high\n",
    "\n",
    "def initialize_centroids(data, k):\n",
    "    '''Initialize the n data points region \n",
    "    Initialize the k centroids region randomly within the data point space\n",
    "    return the centroids position\n",
    "    Time Complexity : O(n + k) because k<<N ==> O(n)\n",
    "    '''\n",
    "    #Define the region of all data points:\n",
    "    x_min = y_min = float('inf')\n",
    "    x_max = y_max = float('-inf')\n",
    "    for point in data: #look for all the data points once : Time complexity O(N)\n",
    "        x_min = min(point[0], x_min)\n",
    "        x_max = max(point[0], x_max)\n",
    "        y_min = min(point[1], y_min)\n",
    "        x_max = max(point[1], y_max)\n",
    "    \n",
    "    #Create a list of k centroids and sample them randomly within the range of all points\n",
    "    centroids = []\n",
    "    for i in range(k): #look for all the centroids once : Time complexity O(K)\n",
    "        centroids.append([random_sample(x_min, x_max),\n",
    "                         random_same(y_min, y_max)])\n",
    "    return centroids"
   ]
  },
  {
   "cell_type": "code",
   "execution_count": 2,
   "id": "fe4ddd6c-9028-45b3-8e9b-face84ff5d3e",
   "metadata": {},
   "outputs": [],
   "source": [
    "def get_distance(point, centroid):\n",
    "    \"\"\"Calculate and return euclidean distance\"\"\"\n",
    "    distance = ((point[0]-centroid[0])**2\n",
    "                +(point[1]-centroid[1])**2)**0.5\n",
    "    return distance\n",
    "\n",
    "def get_label(data, centroids):\n",
    "    '''\n",
    "    Compute distance from one point to all centroid, \n",
    "    select the shortest distance, get the label, \n",
    "    and start with another point\n",
    "    Time complexity: O(k * n)\n",
    "    '''\n",
    "    labels = []\n",
    "    for point in data: #first loop goes through all the points : Time complexity O(n)\n",
    "        min_distance = float('inf')\n",
    "        label = None\n",
    "        \n",
    "        for i, centroid in enumerate(centroids): #second loop goes through all the centroids : Time complexity O(k)\n",
    "            # Getting the distance between the point and the centroid\n",
    "            new_distance = get_distance(point, centroid)\n",
    "            \n",
    "            if min_distance > new_distance:\n",
    "                min_distance = new_distance\n",
    "                label = i\n",
    "            \n",
    "            # Add the label to the label list:\n",
    "            labels.append(label)\n",
    "            \n",
    "        return label\n",
    "        "
   ]
  },
  {
   "cell_type": "code",
   "execution_count": 3,
   "id": "78d3a2b2-8589-4618-be0f-f37f8734b00e",
   "metadata": {},
   "outputs": [],
   "source": [
    "def update_centroids(data, labels, k):\n",
    "    '''\n",
    "    update the centroids based on the mean \n",
    "    of the points assigned to the cluster\n",
    "    Time complexity: O(n + k), k<<n => O(n)\n",
    "    '''\n",
    "    #Initialize the new centroids and counts of point for each cluster\n",
    "    new_centroids = [[0,0] for i in range(k)]\n",
    "    counts = [0] * k\n",
    "    \n",
    "    #Look through all data points and data vector to the new centroid and add to the count of point\n",
    "    for point, label in zip(points, labels): # Loop goes through the data points : Time Complexity O(n)\n",
    "        new_centroids[label][0] += point[0]\n",
    "        new_centroids[label][1] += point[1]\n",
    "        counts[label] += 1\n",
    "    \n",
    "    #Compute the average of x and y coordinates divided by the sum of the counts of points\n",
    "    for i, (x, y) in enumerate(new_centroids): #Loop goes through the centroids : Time Complexity O(k)\n",
    "        new_centroids[i] = (x / counts[i], y / counts[i])\n",
    "        \n",
    "    return new_centroids"
   ]
  },
  {
   "cell_type": "code",
   "execution_count": 4,
   "id": "2f7b9faa-a240-45ed-8dec-59e417cb0d07",
   "metadata": {},
   "outputs": [],
   "source": [
    "def should_stop(old_centroids, new_centroids, threshold=1e-5):\n",
    "    '''takes the old centroids and updated centroids\n",
    "    compute the total movement across all centroids\n",
    "    returns true when total movement is less than a threshold\n",
    "    Time complexity: O(k)\n",
    "    '''\n",
    "    total_movement = 0\n",
    "    \n",
    "    for old_point, new_point in zip(old_centroids, new_centroids): # loop over all centroids: Time complexity O(k)\n",
    "        total_mouvement += get_distance(old_point, new_point)\n",
    "        \n",
    "    return total_movement < threshold"
   ]
  },
  {
   "cell_type": "markdown",
   "id": "e0ecdbc7-b898-4449-ae77-1b7e174afca2",
   "metadata": {},
   "source": [
    "## Main function"
   ]
  },
  {
   "cell_type": "code",
   "execution_count": 5,
   "id": "230359e3-b820-4faa-a5b1-19e1fa6e0c74",
   "metadata": {},
   "outputs": [],
   "source": [
    "# main\n",
    "def main(data, k):\n",
    "    \"\"\"\n",
    "    Label n data points using k centroids\n",
    "    Time complexity: O(k*n*l)\n",
    "    with:\n",
    "    - l: the number of iterations in the while loop\n",
    "    - k: the number of clusters\n",
    "    - n: the number of data points\n",
    "    Space complexity O(k+n), ==> O(n) since k<<n \n",
    "    \"\"\"\n",
    "    #initialize centroids randomly\n",
    "    centroids = initialize_centroids(data, k) #list to store k points : Space complexity O(k)\n",
    "    \n",
    "    while True:\n",
    "        #find closest centroid for each point:\n",
    "        old_centroids = centroids\n",
    "        #label that point with the cluter name:\n",
    "        labels = get_label(data, centroids) # O(k*n) list to store the cluster assigned to each data point: Space complexity O(n)\n",
    "        #calculate the mean and update the centroid:\n",
    "        centroids = update_centroids(data, labels, k)\n",
    "        #Verify convergence:\n",
    "        if should_stop(old_centroids, centroids):\n",
    "            break\n",
    "    \n",
    "    return labels"
   ]
  }
 ],
 "metadata": {
  "kernelspec": {
   "display_name": "Python 3 (ipykernel)",
   "language": "python",
   "name": "python3"
  },
  "language_info": {
   "codemirror_mode": {
    "name": "ipython",
    "version": 3
   },
   "file_extension": ".py",
   "mimetype": "text/x-python",
   "name": "python",
   "nbconvert_exporter": "python",
   "pygments_lexer": "ipython3",
   "version": "3.9.7"
  }
 },
 "nbformat": 4,
 "nbformat_minor": 5
}
